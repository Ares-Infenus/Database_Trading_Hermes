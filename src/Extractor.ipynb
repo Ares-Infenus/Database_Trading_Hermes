{
 "cells": [
  {
   "cell_type": "markdown",
   "id": "37ed8833",
   "metadata": {},
   "source": [
    "### 📦 Dependencias\n",
    "\n",
    "Antes de ejecutar este notebook, asegúrate de tener instaladas las siguientes herramientas y bibliotecas.\n",
    "\n",
    "#### ✅ Requisitos del sistema\n",
    "- **MetaTrader 5** debe estar instalado en el sistema.\n",
    "- **PostgreSQL** debe estar configurado y funcionando.\n",
    "\n",
    "#### 📚 Instalación de bibliotecas de Python\n",
    "\n",
    "Ejecuta el siguiente comando en tu terminal o en una celda de Jupyter para instalar todas las dependencias necesarias:\n",
    "\n",
    "```\n",
    "pip install numpy pandas MetaTrader5 psycopg2-binary\n",
    "```\n",
    "\n"
   ]
  },
  {
   "cell_type": "markdown",
   "id": "b8327d6b",
   "metadata": {},
   "source": [
    "## **Descripcion**\n",
    "Este notebook tiene como propósito realizar la extracción principal de datos, generando un DataFrame unificado. Esta unificación permite consolidar la información en un solo conjunto de datos, evitando así la necesidad de descargar repetidamente grandes volúmenes de información. Dado que MetaTrader almacena los datos de forma que puede consumir muchos gigabytes, esta estrategia optimiza el uso del espacio en disco y mejora la eficiencia del procesamiento."
   ]
  },
  {
   "cell_type": "markdown",
   "id": "e1cbecab",
   "metadata": {},
   "source": [
    "### 🔗 **Extracción de Datos**  \n",
    "Comenzaremos estableciendo la conexión entre la cuenta y los servidores de MetaTrader 5, lo cual es un paso esencial para acceder y extraer la información histórica necesaria para el análisis.\n",
    "\n",
    "> 💡 **Nota:** Las credenciales de acceso necesarias para la conexión están disponibles en el archivo CSV ubicado en `data/credentials/credential.csv`.\n"
   ]
  },
  {
   "cell_type": "code",
   "execution_count": 1,
   "id": "1090ddf6",
   "metadata": {},
   "outputs": [],
   "source": [
    "# Libreiras\n",
    "import pandas as pd\n",
    "import numpy as np\n",
    "import matplotlib.pyplot as plt\n",
    "import seaborn as sns"
   ]
  },
  {
   "cell_type": "code",
   "execution_count": null,
   "id": "eea951b4",
   "metadata": {},
   "outputs": [],
   "source": [
    "# Direccion de las crednciales\n",
    "path_credentials = r\"data\\credentials\\Credenciales.csv\"\n",
    "# Cargar las credenciales desde el archivo CSV\n",
    "df_credentials = pd.read_csv(\n",
    "    r'c:\\Users\\spinz\\OneDrive\\Documentos\\Portafolio oficial\\HERMESDB\\data\\credentials\\Credenciales.csv',\n",
    "    sep=';',\n",
    "    encoding='utf-8'  # o 'utf-8', 'ISO-8859-1' según necesites\n",
    ")"
   ]
  }
 ],
 "metadata": {
  "kernelspec": {
   "display_name": "base",
   "language": "python",
   "name": "python3"
  },
  "language_info": {
   "codemirror_mode": {
    "name": "ipython",
    "version": 3
   },
   "file_extension": ".py",
   "mimetype": "text/x-python",
   "name": "python",
   "nbconvert_exporter": "python",
   "pygments_lexer": "ipython3",
   "version": "3.12.7"
  }
 },
 "nbformat": 4,
 "nbformat_minor": 5
}
